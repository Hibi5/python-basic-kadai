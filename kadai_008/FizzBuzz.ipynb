{
  "nbformat": 4,
  "nbformat_minor": 0,
  "metadata": {
    "colab": {
      "provenance": []
    },
    "kernelspec": {
      "name": "python3",
      "display_name": "Python 3"
    },
    "language_info": {
      "name": "python"
    }
  },
  "cells": [
    {
      "cell_type": "code",
      "execution_count": 3,
      "metadata": {
        "colab": {
          "base_uri": "https://localhost:8080/"
        },
        "id": "SBhbf4STNzWs",
        "outputId": "b0985773-eec2-4c73-b2ec-3f265c79c777"
      },
      "outputs": [
        {
          "output_type": "stream",
          "name": "stdout",
          "text": [
            "Fizz\n"
          ]
        }
      ],
      "source": [
        "var = 3\n",
        "\n",
        "if var % 3 == 0 and var % 5 == 0:\n",
        "  print(\"FizzBuzz\")\n",
        "elif var % 5 == 0:\n",
        "  print(\"Buzz\")\n",
        "elif var % 3 == 0:\n",
        "  print(\"Fizz\")\n",
        "else:\n",
        "  print(var)"
      ]
    }
  ]
}