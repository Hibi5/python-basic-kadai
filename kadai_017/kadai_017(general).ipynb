{
  "nbformat": 4,
  "nbformat_minor": 0,
  "metadata": {
    "colab": {
      "provenance": []
    },
    "kernelspec": {
      "name": "python3",
      "display_name": "Python 3"
    },
    "language_info": {
      "name": "python"
    }
  },
  "cells": [
    {
      "cell_type": "code",
      "execution_count": 4,
      "metadata": {
        "id": "Y6HhfECiK8M9",
        "colab": {
          "base_uri": "https://localhost:8080/"
        },
        "outputId": "a7b94752-1fd0-4df0-e3e4-0581a733b91e"
      },
      "outputs": [
        {
          "output_type": "stream",
          "name": "stdout",
          "text": [
            "大人です\n",
            "大人ではありません\n",
            "大人です\n",
            "大人ではありません\n"
          ]
        }
      ],
      "source": [
        "class Human:\n",
        "  def __init__(self, name, age):\n",
        "    self.name = name\n",
        "    self.age = age\n",
        "\n",
        "  def check_adult(self):\n",
        "    if self.age >= 20:\n",
        "      print(\"大人です\")\n",
        "    else:\n",
        "      print(\"大人ではありません\")\n",
        "\n",
        "humans_list = [Human(\"A\", 35), Human(\"B\", 12), Human(\"C\", 20), Human(\"D\", 18)]\n",
        "\n",
        "for human_list in humans_list:\n",
        "  human_list.check_adult()\n"
      ]
    }
  ]
}